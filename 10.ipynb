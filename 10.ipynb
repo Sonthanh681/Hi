{
 "cells": [
  {
   "cell_type": "code",
   "execution_count": null,
   "id": "9ad0fc93-b7f7-4fbb-b638-82bb9cb5730c",
   "metadata": {},
   "outputs": [],
   "source": [
    "# import thư viện\n",
    "from PIL import Image\n",
    "import matplotlib.pyplot as plt\n",
    "#đường dẫn ảnh\n",
    "my_path = 'C:/HuynhMinhTien/THIGIACMAYTINH/Hinh/conmeo1.jpg'\n",
    "# đọc ảnh\n",
    "im = Image.open(my_path)\n",
    "# chuyển đổi backend\n",
    "plt.switch_backend('tkagg')\n",
    "# Hiển thị ảnh\n",
    "plt.imshow(im)\n",
    "plt.title('Bấm vào hình để chọn điểm nhấn')\n",
    "# sử dụng hàm ginput để chọn điểm trên ảnh\n",
    "points = plt.ginput(10)\n",
    "print(points)\n",
    "# hiển thị\n",
    "plt.show()"
   ]
  },
  {
   "cell_type": "code",
   "execution_count": 9,
   "id": "9b46af39-ce9a-49ca-bf63-397cbdda961a",
   "metadata": {},
   "outputs": [],
   "source": [
    "# Vẽ lại các điểm đã chọn bằng dấu * màu đỏ\n",
    "plt.close()\n",
    "\n",
    "# Vẽ lại\n",
    "plt.imshow(im)\n",
    "for point in points:\n",
    "    x, y = point\n",
    "    plt.plot(x,y, 'r*')\n",
    "\n",
    "plt.show()"
   ]
  },
  {
   "cell_type": "code",
   "execution_count": null,
   "id": "1fb4bb2c-4ec4-4402-88c6-97bd541ad3d3",
   "metadata": {},
   "outputs": [],
   "source": []
  }
 ],
 "metadata": {
  "kernelspec": {
   "display_name": "Python 3 (ipykernel)",
   "language": "python",
   "name": "python3"
  },
  "language_info": {
   "codemirror_mode": {
    "name": "ipython",
    "version": 3
   },
   "file_extension": ".py",
   "mimetype": "text/x-python",
   "name": "python",
   "nbconvert_exporter": "python",
   "pygments_lexer": "ipython3",
   "version": "3.12.4"
  }
 },
 "nbformat": 4,
 "nbformat_minor": 5
}
